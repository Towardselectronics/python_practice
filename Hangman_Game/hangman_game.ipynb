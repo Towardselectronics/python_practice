{
 "cells": [
  {
   "cell_type": "markdown",
   "metadata": {},
   "source": [
    "# Hangman Game"
   ]
  },
  {
   "cell_type": "markdown",
   "metadata": {},
   "source": [
    "As in the traditional game of Hangman, the player must guess the letter of a hidden word, with each wrong guess resulting in a piece being added to a gallows, with the game ending either when the gallows is completed or when the word has been fully guessed. \n",
    "\n",
    "The player can select from a range of four difficulty levels from first grade to high school. The words have a maximum length of six characters.\n",
    "\n",
    "Play Modes : \n",
    "- A timed mode where the player has to guess before a time limit expires is also available.\n",
    "\n",
    "- The game can be played in single-player mode, or in a two-player mode where the players play together. \n",
    "    - In one-player mode the player has 11 attempts at guessing before the gallows is constructed. \n",
    "    - In two-player mode, guessing may go on until one player wins."
   ]
  },
  {
   "cell_type": "markdown",
   "metadata": {},
   "source": [
    "![hangman game](https://www.wikihow.com/images/thumb/5/58/Play-Hangman-Step-7.jpg/v4-460px-Play-Hangman-Step-7.jpg.webp)"
   ]
  },
  {
   "cell_type": "markdown",
   "metadata": {},
   "source": [
    "__Topics / Concepts in Hangman Game - Python :-__\n",
    "- Functions\n",
    "- input()\n",
    "- loop concepts\n",
    "- String\n",
    "- File Handling"
   ]
  },
  {
   "cell_type": "markdown",
   "metadata": {},
   "source": [
    "### What the game has to do ?\n",
    "- randomly choose word from list\n",
    "- ask the player / user to guess a character to fill the word\n",
    "- if the attempt fails reduce the life by one\n",
    "- if the character is present display it in its position\n",
    "- if life drops zero exit and display the number \n",
    "- if word guessed correctly display 'you won'\n",
    "- ask user if he / she wants to play again"
   ]
  },
  {
   "cell_type": "code",
   "execution_count": 10,
   "metadata": {},
   "outputs": [],
   "source": [
    "# to pick random word from text file\n",
    "def random_word(fname):\n",
    "    from random import choice\n",
    "    line = open(fname).read().splitlines()\n",
    "    return choice(line)"
   ]
  },
  {
   "cell_type": "code",
   "execution_count": 5,
   "metadata": {},
   "outputs": [],
   "source": [
    "# to get input from user\n",
    "def get_user_character():\n",
    "    character = input(\"🤔🤔 guess a character of the word : \")\n",
    "    return character"
   ]
  },
  {
   "cell_type": "code",
   "execution_count": 6,
   "metadata": {},
   "outputs": [],
   "source": [
    "# to check the occurrence of the character in the word\n",
    "def check_character_occurrence(strs,char):\n",
    "    import re \n",
    "    occ = [x.start() for x in re.finditer(char, strs)]\n",
    "    return occ"
   ]
  },
  {
   "cell_type": "code",
   "execution_count": 7,
   "metadata": {},
   "outputs": [],
   "source": [
    "# to replace the values in the string @ specified index\n",
    "def replace_str_index(text,index=0,replacement=''):\n",
    "    return '%s%s%s'%(text[:index],replacement,text[index+1:])"
   ]
  },
  {
   "cell_type": "code",
   "execution_count": 14,
   "metadata": {},
   "outputs": [],
   "source": [
    "def draw_hangman(life):\n",
    "    if (life == 10):\n",
    "        print (\"\")\n",
    "        print (\"|\")\n",
    "        print (\"|\")\n",
    "        print (\"|\")\n",
    "        print (\"|\")\n",
    "        print (\"|\")\n",
    "        print (\"|________\")\n",
    "        \n",
    "    elif (life == 9):\n",
    "        print (\"_________\")\n",
    "        print (\"|\")\n",
    "        print (\"|\")\n",
    "        print (\"|\")\n",
    "        print (\"|\")\n",
    "        print (\"|\")\n",
    "        print (\"|________\")\n",
    "        \n",
    "    elif (life == 8):\n",
    "        print (\"_________\")\n",
    "        print (\"|      |\")\n",
    "        print (\"|\")\n",
    "        print (\"|\")\n",
    "        print (\"|\")\n",
    "        print (\"|\")\n",
    "        print (\"|________\")\n",
    "    elif (life == 7):\n",
    "        print (\"_________\")\n",
    "        print (\"|      |\")\n",
    "        print (\"|      O\")\n",
    "        print (\"|\")\n",
    "        print (\"|\")\n",
    "        print (\"|\")\n",
    "        print (\"|________\")\n",
    "    elif (life == 6):\n",
    "        print (\"_________\")\n",
    "        print (\"|      |\")\n",
    "        print (\"|      O\")\n",
    "        print (\"|      |\")\n",
    "        print (\"|\")\n",
    "        print (\"|\")\n",
    "        print (\"|________\")\n",
    "    elif (life == 5):\n",
    "        print (\"_________\")\n",
    "        print (\"|      |\")\n",
    "        print (\"|      O\")\n",
    "        print (\"|      |\")\n",
    "        print (\"|      |\")\n",
    "        print (\"|\")\n",
    "        print (\"|________\")\n",
    "    elif (life == 4):\n",
    "        print (\"_________\")\n",
    "        print (\"|      |\")\n",
    "        print (\"|      O\")\n",
    "        print (\"|     \\|\")\n",
    "        print (\"|      |\")\n",
    "        print (\"|\")\n",
    "        print (\"|________\")\n",
    "    elif (life == 3):\n",
    "        print (\"_________\")\n",
    "        print (\"|      |\")\n",
    "        print (\"|      O\")\n",
    "        print (\"|     \\|/\")\n",
    "        print (\"|      |\")\n",
    "        print (\"|\")\n",
    "        print (\"|________\")        \n",
    "    elif (life == 2):\n",
    "        print (\"_________\")\n",
    "        print (\"|      |\")\n",
    "        print (\"|      O\")\n",
    "        print (\"|     \\|/\")\n",
    "        print (\"|      |\")\n",
    "        print (\"|     / \")\n",
    "        print (\"|________\")\n",
    "    elif (life == 1):\n",
    "        print (\"_________\")\n",
    "        print (\"|      |\")\n",
    "        print (\"|      O\")\n",
    "        print (\"|     \\|/\")\n",
    "        print (\"|      |\")\n",
    "        print (\"|     / \\ \")\n",
    "        print (\"|________\")\n",
    "    elif (life == 0):\n",
    "        print(\"💀💀Hanged💀💀\")\n",
    "        print (\"_________\")\n",
    "        print (\"|      |\")\n",
    "        print (\"|      O\")\n",
    "        print (\"|     \\|/\")\n",
    "        print (\"|      |\")\n",
    "        print (\"|     / \\ \")\n",
    "        print (\"|________\")\n",
    "        print('\\n')"
   ]
  },
  {
   "cell_type": "code",
   "execution_count": 8,
   "metadata": {},
   "outputs": [],
   "source": [
    "# to check the character is present in word or not\n",
    "def check(char,dupli):\n",
    "    res = False\n",
    "    for i in word:\n",
    "        if char == i:\n",
    "            res = True\n",
    "            mul_char = check_character_occurrence(word,char)\n",
    "            \n",
    "            if len(mul_char) == 1:\n",
    "                dupli = replace_str_index(dupli,word.index(char),char)\n",
    "            else:\n",
    "                for k in range(len(mul_char)):\n",
    "                    dupli = replace_str_index(dupli,mul_char[k],char)\n",
    "    return res,dupli"
   ]
  },
  {
   "cell_type": "code",
   "execution_count": 15,
   "metadata": {},
   "outputs": [
    {
     "name": "stdout",
     "output_type": "stream",
     "text": [
      "Hangman Game\n"
     ]
    },
    {
     "name": "stdin",
     "output_type": "stream",
     "text": [
      "🤔🤔 guess a character of the word :  a\n"
     ]
    },
    {
     "name": "stdout",
     "output_type": "stream",
     "text": [
      "a----\tTurns : 1\tLife : 10 ❤\n"
     ]
    },
    {
     "name": "stdin",
     "output_type": "stream",
     "text": [
      "🤔🤔 guess a character of the word :  s\n"
     ]
    },
    {
     "name": "stdout",
     "output_type": "stream",
     "text": [
      "\n",
      "|\n",
      "|\n",
      "|\n",
      "|\n",
      "|\n",
      "|________\n",
      "None\n",
      "a----\tTurns : 2\tLife : 10 ❤\n"
     ]
    },
    {
     "name": "stdin",
     "output_type": "stream",
     "text": [
      "🤔🤔 guess a character of the word :  t\n"
     ]
    },
    {
     "name": "stdout",
     "output_type": "stream",
     "text": [
      "_________\n",
      "|\n",
      "|\n",
      "|\n",
      "|\n",
      "|\n",
      "|________\n",
      "None\n",
      "a----\tTurns : 3\tLife : 9 ❤\n"
     ]
    },
    {
     "name": "stdin",
     "output_type": "stream",
     "text": [
      "🤔🤔 guess a character of the word :  e\n"
     ]
    },
    {
     "name": "stdout",
     "output_type": "stream",
     "text": [
      "_________\n",
      "|      |\n",
      "|\n",
      "|\n",
      "|\n",
      "|\n",
      "|________\n",
      "None\n",
      "a----\tTurns : 4\tLife : 8 ❤\n"
     ]
    },
    {
     "name": "stdin",
     "output_type": "stream",
     "text": [
      "🤔🤔 guess a character of the word :  t\n"
     ]
    },
    {
     "name": "stdout",
     "output_type": "stream",
     "text": [
      "_________\n",
      "|      |\n",
      "|      O\n",
      "|\n",
      "|\n",
      "|\n",
      "|________\n",
      "None\n",
      "a----\tTurns : 5\tLife : 7 ❤\n"
     ]
    },
    {
     "name": "stdin",
     "output_type": "stream",
     "text": [
      "🤔🤔 guess a character of the word :  g\n"
     ]
    },
    {
     "name": "stdout",
     "output_type": "stream",
     "text": [
      "_________\n",
      "|      |\n",
      "|      O\n",
      "|      |\n",
      "|\n",
      "|\n",
      "|________\n",
      "None\n",
      "a----\tTurns : 6\tLife : 6 ❤\n"
     ]
    },
    {
     "name": "stdin",
     "output_type": "stream",
     "text": [
      "🤔🤔 guess a character of the word :  f\n"
     ]
    },
    {
     "name": "stdout",
     "output_type": "stream",
     "text": [
      "_________\n",
      "|      |\n",
      "|      O\n",
      "|      |\n",
      "|      |\n",
      "|\n",
      "|________\n",
      "None\n",
      "a----\tTurns : 7\tLife : 5 ❤\n"
     ]
    },
    {
     "name": "stdin",
     "output_type": "stream",
     "text": [
      "🤔🤔 guess a character of the word :  k\n"
     ]
    },
    {
     "name": "stdout",
     "output_type": "stream",
     "text": [
      "_________\n",
      "|      |\n",
      "|      O\n",
      "|     \\|\n",
      "|      |\n",
      "|\n",
      "|________\n",
      "None\n",
      "a----\tTurns : 8\tLife : 4 ❤\n"
     ]
    },
    {
     "name": "stdin",
     "output_type": "stream",
     "text": [
      "🤔🤔 guess a character of the word :  i\n"
     ]
    },
    {
     "name": "stdout",
     "output_type": "stream",
     "text": [
      "_________\n",
      "|      |\n",
      "|      O\n",
      "|     \\|/\n",
      "|      |\n",
      "|\n",
      "|________\n",
      "None\n",
      "a-i--\tTurns : 9\tLife : 3 ❤\n"
     ]
    },
    {
     "name": "stdin",
     "output_type": "stream",
     "text": [
      "🤔🤔 guess a character of the word :  o\n"
     ]
    },
    {
     "name": "stdout",
     "output_type": "stream",
     "text": [
      "_________\n",
      "|      |\n",
      "|      O\n",
      "|     \\|/\n",
      "|      |\n",
      "|\n",
      "|________\n",
      "None\n",
      "a-io-\tTurns : 10\tLife : 3 ❤\n"
     ]
    },
    {
     "name": "stdin",
     "output_type": "stream",
     "text": [
      "🤔🤔 guess a character of the word :  f\n"
     ]
    },
    {
     "name": "stdout",
     "output_type": "stream",
     "text": [
      "_________\n",
      "|      |\n",
      "|      O\n",
      "|     \\|/\n",
      "|      |\n",
      "|\n",
      "|________\n",
      "None\n",
      "a-io-\tTurns : 11\tLife : 3 ❤\n"
     ]
    },
    {
     "name": "stdin",
     "output_type": "stream",
     "text": [
      "🤔🤔 guess a character of the word :  o\n"
     ]
    },
    {
     "name": "stdout",
     "output_type": "stream",
     "text": [
      "_________\n",
      "|      |\n",
      "|      O\n",
      "|     \\|/\n",
      "|      |\n",
      "|     / \n",
      "|________\n",
      "None\n",
      "a-io-\tTurns : 12\tLife : 2 ❤\n"
     ]
    },
    {
     "name": "stdin",
     "output_type": "stream",
     "text": [
      "🤔🤔 guess a character of the word :  p\n"
     ]
    },
    {
     "name": "stdout",
     "output_type": "stream",
     "text": [
      "_________\n",
      "|      |\n",
      "|      O\n",
      "|     \\|/\n",
      "|      |\n",
      "|     / \n",
      "|________\n",
      "None\n",
      "a-io-\tTurns : 13\tLife : 2 ❤\n"
     ]
    },
    {
     "name": "stdin",
     "output_type": "stream",
     "text": [
      "🤔🤔 guess a character of the word :  e\n"
     ]
    },
    {
     "name": "stdout",
     "output_type": "stream",
     "text": [
      "_________\n",
      "|      |\n",
      "|      O\n",
      "|     \\|/\n",
      "|      |\n",
      "|     / \\ \n",
      "|________\n",
      "None\n",
      "a-io-\tTurns : 14\tLife : 1 ❤\n",
      "💀💀Hanged💀💀\n",
      "_________\n",
      "|      |\n",
      "|      O\n",
      "|     \\|/\n",
      "|      |\n",
      "|     / \\ \n",
      "|________\n",
      "\n",
      "\n",
      "None\n",
      "\n",
      "\n",
      "😢😞 life expired you lost 😢😞\n",
      "\n",
      "The word is : axiom\n"
     ]
    }
   ],
   "source": [
    "# to play game\n",
    "word = random_word('word_list_hangman.txt')\n",
    "life = 10\n",
    "turn = 1\n",
    "dupli = '-'*len(word)\n",
    "print(\"Hangman Game\")\n",
    "\n",
    "while turn > 0:\n",
    "    guess = get_user_character()\n",
    "    if turn != 1:\n",
    "        res,dup = check(guess,dup)\n",
    "        print(draw_hangman(life))\n",
    "        print('{}\\tTurns : {}\\tLife : {} ❤'.format(dup,turn,life))\n",
    "    else:\n",
    "        res,dup = check(guess,dupli)\n",
    "        print('{}\\tTurns : {}\\tLife : {} ❤'.format(dup,turn,life))\n",
    "    turn += 1\n",
    "    if res != True:\n",
    "        life -= 1\n",
    "        if life == 0:\n",
    "            print(draw_hangman(life=0))\n",
    "            print(\"\\n\\n😢😞 life expired you lost 😢😞\")\n",
    "            print('\\nThe word is : {}'.format(word))\n",
    "            break\n",
    "    if dup == word:\n",
    "        print('\\n\\n❤❤❤ Congrats you guessed the word correctly | won the game ❤❤❤')\n",
    "        break        "
   ]
  }
 ],
 "metadata": {
  "kernelspec": {
   "display_name": "Python 3",
   "language": "python",
   "name": "python3"
  },
  "language_info": {
   "codemirror_mode": {
    "name": "ipython",
    "version": 3
   },
   "file_extension": ".py",
   "mimetype": "text/x-python",
   "name": "python",
   "nbconvert_exporter": "python",
   "pygments_lexer": "ipython3",
   "version": "3.8.5"
  }
 },
 "nbformat": 4,
 "nbformat_minor": 4
}
